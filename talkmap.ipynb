{
  "cells": [
    {
      "cell_type": "code",
      "source": [
        "import os\n",
        "os.getcwd()\n"
      ],
      "metadata": {
        "id": "O_FOGqIAOv9o",
        "outputId": "904cd58e-89a4-4b7d-bb0a-aca709f31c38",
        "colab": {
          "base_uri": "https://localhost:8080/",
          "height": 35
        }
      },
      "execution_count": 5,
      "outputs": [
        {
          "output_type": "execute_result",
          "data": {
            "text/plain": [
              "'/content/Visualizations/_talks'"
            ],
            "application/vnd.google.colaboratory.intrinsic+json": {
              "type": "string"
            }
          },
          "metadata": {},
          "execution_count": 5
        }
      ]
    },
    {
      "cell_type": "code",
      "source": [
        "!git clone https://github.com/svanaki1/Visualizations.git\n"
      ],
      "metadata": {
        "id": "4iXRMPl8PRAj",
        "outputId": "460fac28-0bbf-46de-ae99-d04fb519ee6f",
        "colab": {
          "base_uri": "https://localhost:8080/"
        }
      },
      "execution_count": 6,
      "outputs": [
        {
          "output_type": "stream",
          "name": "stdout",
          "text": [
            "Cloning into 'Visualizations'...\n",
            "remote: Enumerating objects: 395, done.\u001b[K\n",
            "remote: Counting objects: 100% (395/395), done.\u001b[K\n",
            "remote: Compressing objects: 100% (377/377), done.\u001b[K\n",
            "remote: Total 395 (delta 34), reused 346 (delta 5), pack-reused 0 (from 0)\u001b[K\n",
            "Receiving objects: 100% (395/395), 2.72 MiB | 10.32 MiB/s, done.\n",
            "Resolving deltas: 100% (34/34), done.\n"
          ]
        }
      ]
    },
    {
      "cell_type": "code",
      "source": [
        "%cd Visualizations/_talks/\n"
      ],
      "metadata": {
        "id": "1XyIzYyAPSjg",
        "outputId": "c0472485-281f-4238-d609-74f6c2ffdef9",
        "colab": {
          "base_uri": "https://localhost:8080/"
        }
      },
      "execution_count": 7,
      "outputs": [
        {
          "output_type": "stream",
          "name": "stdout",
          "text": [
            "/content/Visualizations/_talks/Visualizations/_talks\n"
          ]
        }
      ]
    },
    {
      "cell_type": "markdown",
      "metadata": {
        "id": "ZxcjmAUGOiOz"
      },
      "source": [
        "# Leaflet cluster map of talk locations\n",
        "\n",
        "Run this from the _talks/ directory, which contains .md files of all your talks. This scrapes the location YAML field from each .md file, geolocates it with geopy/Nominatim, and uses the getorg library to output data, HTML, and Javascript for a standalone cluster map."
      ]
    },
    {
      "cell_type": "code",
      "execution_count": 8,
      "metadata": {
        "id": "HONernyQOiO1",
        "outputId": "589c04ee-5db9-4336-93de-350ce24e04ca",
        "colab": {
          "base_uri": "https://localhost:8080/",
          "height": 540
        }
      },
      "outputs": [
        {
          "output_type": "stream",
          "name": "stdout",
          "text": [
            "Collecting getorg\n",
            "  Downloading getorg-0.3.1-py2.py3-none-any.whl.metadata (326 bytes)\n",
            "Requirement already satisfied: geopy in /usr/local/lib/python3.11/dist-packages (from getorg) (2.4.1)\n",
            "Collecting pygithub (from getorg)\n",
            "  Downloading pygithub-2.7.0-py3-none-any.whl.metadata (3.9 kB)\n",
            "Collecting retrying (from getorg)\n",
            "  Downloading retrying-1.4.2-py3-none-any.whl.metadata (5.5 kB)\n",
            "Requirement already satisfied: geographiclib<3,>=1.52 in /usr/local/lib/python3.11/dist-packages (from geopy->getorg) (2.0)\n",
            "Collecting pynacl>=1.4.0 (from pygithub->getorg)\n",
            "  Downloading PyNaCl-1.5.0-cp36-abi3-manylinux_2_17_x86_64.manylinux2014_x86_64.manylinux_2_24_x86_64.whl.metadata (8.6 kB)\n",
            "Requirement already satisfied: requests>=2.14.0 in /usr/local/lib/python3.11/dist-packages (from pygithub->getorg) (2.32.3)\n",
            "Requirement already satisfied: pyjwt>=2.4.0 in /usr/local/lib/python3.11/dist-packages (from pyjwt[crypto]>=2.4.0->pygithub->getorg) (2.10.1)\n",
            "Requirement already satisfied: typing-extensions>=4.5.0 in /usr/local/lib/python3.11/dist-packages (from pygithub->getorg) (4.14.1)\n",
            "Requirement already satisfied: urllib3>=1.26.0 in /usr/local/lib/python3.11/dist-packages (from pygithub->getorg) (2.5.0)\n",
            "Requirement already satisfied: cryptography>=3.4.0 in /usr/local/lib/python3.11/dist-packages (from pyjwt[crypto]>=2.4.0->pygithub->getorg) (43.0.3)\n",
            "Requirement already satisfied: cffi>=1.4.1 in /usr/local/lib/python3.11/dist-packages (from pynacl>=1.4.0->pygithub->getorg) (1.17.1)\n",
            "Requirement already satisfied: charset-normalizer<4,>=2 in /usr/local/lib/python3.11/dist-packages (from requests>=2.14.0->pygithub->getorg) (3.4.2)\n",
            "Requirement already satisfied: idna<4,>=2.5 in /usr/local/lib/python3.11/dist-packages (from requests>=2.14.0->pygithub->getorg) (3.10)\n",
            "Requirement already satisfied: certifi>=2017.4.17 in /usr/local/lib/python3.11/dist-packages (from requests>=2.14.0->pygithub->getorg) (2025.7.14)\n",
            "Requirement already satisfied: pycparser in /usr/local/lib/python3.11/dist-packages (from cffi>=1.4.1->pynacl>=1.4.0->pygithub->getorg) (2.22)\n",
            "Downloading getorg-0.3.1-py2.py3-none-any.whl (39 kB)\n",
            "Downloading pygithub-2.7.0-py3-none-any.whl (416 kB)\n",
            "\u001b[2K   \u001b[90m━━━━━━━━━━━━━━━━━━━━━━━━━━━━━━━━━━━━━━━━\u001b[0m \u001b[32m416.5/416.5 kB\u001b[0m \u001b[31m2.2 MB/s\u001b[0m eta \u001b[36m0:00:00\u001b[0m\n",
            "\u001b[?25hDownloading retrying-1.4.2-py3-none-any.whl (10 kB)\n",
            "Downloading PyNaCl-1.5.0-cp36-abi3-manylinux_2_17_x86_64.manylinux2014_x86_64.manylinux_2_24_x86_64.whl (856 kB)\n",
            "\u001b[2K   \u001b[90m━━━━━━━━━━━━━━━━━━━━━━━━━━━━━━━━━━━━━━━━\u001b[0m \u001b[32m856.7/856.7 kB\u001b[0m \u001b[31m10.2 MB/s\u001b[0m eta \u001b[36m0:00:00\u001b[0m\n",
            "\u001b[?25hInstalling collected packages: retrying, pynacl, pygithub, getorg\n",
            "Successfully installed getorg-0.3.1 pygithub-2.7.0 pynacl-1.5.0 retrying-1.4.2\n",
            "IPywidgets and ipyleaflet support enabled.\n"
          ]
        }
      ],
      "source": [
        "!pip install getorg --upgrade\n",
        "import glob\n",
        "import getorg\n",
        "from geopy import Nominatim"
      ]
    },
    {
      "cell_type": "code",
      "execution_count": 9,
      "metadata": {
        "id": "ApSBME71OiO2"
      },
      "outputs": [],
      "source": [
        "g = glob.glob(\"*.md\")"
      ]
    },
    {
      "cell_type": "code",
      "execution_count": 12,
      "metadata": {
        "collapsed": true,
        "id": "6nqEf6G0OiO2"
      },
      "outputs": [],
      "source": [
        "from geopy.geocoders import Nominatim\n",
        "geocoder = Nominatim(user_agent=\"my-talks-visualization\")\n",
        "location_dict = {}\n",
        "location = \"\"\n",
        "permalink = \"\"\n",
        "title = \"\""
      ]
    },
    {
      "cell_type": "code",
      "execution_count": 13,
      "metadata": {
        "id": "i4rb02KuOiO3",
        "outputId": "299ffba0-c53b-48c8-f787-c82fb646e23b",
        "colab": {
          "base_uri": "https://localhost:8080/"
        }
      },
      "outputs": [
        {
          "output_type": "stream",
          "name": "stdout",
          "text": [
            "Los Angeles, CA \n",
            " Los Angeles, Los Angeles County, California, United States\n"
          ]
        },
        {
          "output_type": "stream",
          "name": "stderr",
          "text": [
            "WARNING:urllib3.connectionpool:Retrying (Retry(total=1, connect=None, read=None, redirect=None, status=None)) after connection broken by 'ReadTimeoutError(\"HTTPSConnectionPool(host='nominatim.openstreetmap.org', port=443): Read timed out. (read timeout=1)\")': /search?q=London%2C+UK&format=json&limit=1\n"
          ]
        },
        {
          "output_type": "stream",
          "name": "stdout",
          "text": [
            "London, UK \n",
            " London, Greater London, England, United Kingdom\n",
            "Houston, Texas \n",
            " Houston, Harris County, Texas, United States\n"
          ]
        },
        {
          "output_type": "stream",
          "name": "stderr",
          "text": [
            "WARNING:urllib3.connectionpool:Retrying (Retry(total=1, connect=None, read=None, redirect=None, status=None)) after connection broken by 'ReadTimeoutError(\"HTTPSConnectionPool(host='nominatim.openstreetmap.org', port=443): Read timed out. (read timeout=1)\")': /search?q=Berkeley+CA%2C+USA&format=json&limit=1\n"
          ]
        },
        {
          "output_type": "stream",
          "name": "stdout",
          "text": [
            "Berkeley CA, USA \n",
            " Berkeley, Alameda County, California, United States\n"
          ]
        }
      ],
      "source": [
        "\n",
        "for file in g:\n",
        "    with open(file, 'r') as f:\n",
        "        lines = f.read()\n",
        "        if lines.find('location: \"') > 1:\n",
        "            loc_start = lines.find('location: \"') + 11\n",
        "            lines_trim = lines[loc_start:]\n",
        "            loc_end = lines_trim.find('\"')\n",
        "            location = lines_trim[:loc_end]\n",
        "\n",
        "\n",
        "        location_dict[location] = geocoder.geocode(location)\n",
        "        print(location, \"\\n\", location_dict[location])\n"
      ]
    },
    {
      "cell_type": "code",
      "execution_count": 14,
      "metadata": {
        "id": "d3kY8_0zOiO3",
        "outputId": "1d8809fa-b04d-4e2b-bd0d-d4048335f2b6",
        "colab": {
          "base_uri": "https://localhost:8080/",
          "height": 35
        }
      },
      "outputs": [
        {
          "output_type": "execute_result",
          "data": {
            "text/plain": [
              "'Written map to ../talkmap/'"
            ],
            "application/vnd.google.colaboratory.intrinsic+json": {
              "type": "string"
            }
          },
          "metadata": {},
          "execution_count": 14
        }
      ],
      "source": [
        "m = getorg.orgmap.create_map_obj()\n",
        "getorg.orgmap.output_html_cluster_map(location_dict, folder_name=\"../talkmap\", hashed_usernames=False)"
      ]
    },
    {
      "cell_type": "code",
      "execution_count": null,
      "metadata": {
        "collapsed": true,
        "id": "kjfiTpcbOiO3"
      },
      "outputs": [],
      "source": []
    }
  ],
  "metadata": {
    "anaconda-cloud": {},
    "kernelspec": {
      "display_name": "Python [Root]",
      "language": "python",
      "name": "Python [Root]"
    },
    "language_info": {
      "codemirror_mode": {
        "name": "ipython",
        "version": 3
      },
      "file_extension": ".py",
      "mimetype": "text/x-python",
      "name": "python",
      "nbconvert_exporter": "python",
      "pygments_lexer": "ipython3",
      "version": "3.5.2"
    },
    "colab": {
      "provenance": []
    }
  },
  "nbformat": 4,
  "nbformat_minor": 0
}